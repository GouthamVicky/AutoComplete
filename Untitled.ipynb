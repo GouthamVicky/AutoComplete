{
 "cells": [
  {
   "cell_type": "code",
   "execution_count": 1,
   "id": "da5e3649",
   "metadata": {},
   "outputs": [
    {
     "name": "stderr",
     "output_type": "stream",
     "text": [
      "Using TensorFlow backend.\n"
     ]
    }
   ],
   "source": [
    "import pandas as pd\n",
    "import os\n",
    "import numpy as np\n",
    "import tensorflow as tf\n",
    "from tensorflow.keras.preprocessing.sequence import pad_sequences\n",
    "from tensorflow.keras.layers import Embedding, LSTM, Dense, Bidirectional\n",
    "from tensorflow.keras.preprocessing.text import Tokenizer\n",
    "from tensorflow.keras.models import Sequential\n",
    "from tensorflow.keras.optimizers import Adam\n",
    "from keras.models import load_model"
   ]
  },
  {
   "cell_type": "code",
   "execution_count": 2,
   "id": "5ffa014e",
   "metadata": {},
   "outputs": [
    {
     "data": {
      "text/html": [
       "<div>\n",
       "<style scoped>\n",
       "    .dataframe tbody tr th:only-of-type {\n",
       "        vertical-align: middle;\n",
       "    }\n",
       "\n",
       "    .dataframe tbody tr th {\n",
       "        vertical-align: top;\n",
       "    }\n",
       "\n",
       "    .dataframe thead th {\n",
       "        text-align: right;\n",
       "    }\n",
       "</style>\n",
       "<table border=\"1\" class=\"dataframe\">\n",
       "  <thead>\n",
       "    <tr style=\"text-align: right;\">\n",
       "      <th></th>\n",
       "      <th>CIN</th>\n",
       "      <th>Company Name</th>\n",
       "      <th>ROC Code</th>\n",
       "      <th>Registration Number</th>\n",
       "      <th>Company Category</th>\n",
       "      <th>Company SubCategory</th>\n",
       "      <th>Class of Company</th>\n",
       "      <th>Authorised Capital(Rs)</th>\n",
       "      <th>Paid up Capital(Rs)</th>\n",
       "      <th>Number of Members(Applicable in case of company without Share Capital)</th>\n",
       "      <th>...</th>\n",
       "      <th>dinStatus/5/DIN</th>\n",
       "      <th>dinStatus/5/Name</th>\n",
       "      <th>dinStatus/5/BeginDate</th>\n",
       "      <th>dinStatus/5/EndDate</th>\n",
       "      <th>dinStatus/5/SurrenderedDIN</th>\n",
       "      <th>dinStatus/6/DIN</th>\n",
       "      <th>dinStatus/6/Name</th>\n",
       "      <th>dinStatus/6/BeginDate</th>\n",
       "      <th>dinStatus/6/EndDate</th>\n",
       "      <th>dinStatus/6/SurrenderedDIN</th>\n",
       "    </tr>\n",
       "  </thead>\n",
       "  <tbody>\n",
       "    <tr>\n",
       "      <th>0</th>\n",
       "      <td>U95000UP2021PTC142754</td>\n",
       "      <td>VIDHAN ECO ENVIRONMENTAL AGENCY PRIVATE LIMITED</td>\n",
       "      <td>RoC-Kanpur</td>\n",
       "      <td>142754.0</td>\n",
       "      <td>Company limited by Shares</td>\n",
       "      <td>Non-govt company</td>\n",
       "      <td>Private</td>\n",
       "      <td>100000.0</td>\n",
       "      <td>100000.0</td>\n",
       "      <td>0.0</td>\n",
       "      <td>...</td>\n",
       "      <td>NaN</td>\n",
       "      <td>NaN</td>\n",
       "      <td>NaN</td>\n",
       "      <td>NaN</td>\n",
       "      <td>NaN</td>\n",
       "      <td>NaN</td>\n",
       "      <td>NaN</td>\n",
       "      <td>NaN</td>\n",
       "      <td>NaN</td>\n",
       "      <td>NaN</td>\n",
       "    </tr>\n",
       "    <tr>\n",
       "      <th>1</th>\n",
       "      <td>U93090WB2021PTC243980</td>\n",
       "      <td>ANBY TECHNOLOGIES PRIVATE LIMITED</td>\n",
       "      <td>RoC-Kolkata</td>\n",
       "      <td>243980.0</td>\n",
       "      <td>Company limited by Shares</td>\n",
       "      <td>Non-govt company</td>\n",
       "      <td>Private</td>\n",
       "      <td>1000.0</td>\n",
       "      <td>1000.0</td>\n",
       "      <td>0.0</td>\n",
       "      <td>...</td>\n",
       "      <td>NaN</td>\n",
       "      <td>NaN</td>\n",
       "      <td>NaN</td>\n",
       "      <td>NaN</td>\n",
       "      <td>NaN</td>\n",
       "      <td>NaN</td>\n",
       "      <td>NaN</td>\n",
       "      <td>NaN</td>\n",
       "      <td>NaN</td>\n",
       "      <td>NaN</td>\n",
       "    </tr>\n",
       "    <tr>\n",
       "      <th>2</th>\n",
       "      <td>U93090WB2021OPC242700</td>\n",
       "      <td>HEAVENHOLISTIC WELLNESS (OPC) PRIVATE LIMITED</td>\n",
       "      <td>RoC-Kolkata</td>\n",
       "      <td>242700.0</td>\n",
       "      <td>Company limited by Shares</td>\n",
       "      <td>Non-govt company</td>\n",
       "      <td>Private(One Person Company)</td>\n",
       "      <td>100000.0</td>\n",
       "      <td>100000.0</td>\n",
       "      <td>0.0</td>\n",
       "      <td>...</td>\n",
       "      <td>NaN</td>\n",
       "      <td>NaN</td>\n",
       "      <td>NaN</td>\n",
       "      <td>NaN</td>\n",
       "      <td>NaN</td>\n",
       "      <td>NaN</td>\n",
       "      <td>NaN</td>\n",
       "      <td>NaN</td>\n",
       "      <td>NaN</td>\n",
       "      <td>NaN</td>\n",
       "    </tr>\n",
       "    <tr>\n",
       "      <th>3</th>\n",
       "      <td>U93090WB2020PTC239925</td>\n",
       "      <td>GUIDE DOG SERVICES PRIVATE LIMITED</td>\n",
       "      <td>RoC-Kolkata</td>\n",
       "      <td>239925.0</td>\n",
       "      <td>Company limited by Shares</td>\n",
       "      <td>Non-govt company</td>\n",
       "      <td>Private</td>\n",
       "      <td>100000.0</td>\n",
       "      <td>100000.0</td>\n",
       "      <td>0.0</td>\n",
       "      <td>...</td>\n",
       "      <td>NaN</td>\n",
       "      <td>NaN</td>\n",
       "      <td>NaN</td>\n",
       "      <td>NaN</td>\n",
       "      <td>NaN</td>\n",
       "      <td>NaN</td>\n",
       "      <td>NaN</td>\n",
       "      <td>NaN</td>\n",
       "      <td>NaN</td>\n",
       "      <td>NaN</td>\n",
       "    </tr>\n",
       "    <tr>\n",
       "      <th>4</th>\n",
       "      <td>U93090UR2021PTC012429</td>\n",
       "      <td>SHVAN-SAURIK PRIVATE LIMITED</td>\n",
       "      <td>RoC-Uttarakhand</td>\n",
       "      <td>12429.0</td>\n",
       "      <td>Company limited by Shares</td>\n",
       "      <td>Non-govt company</td>\n",
       "      <td>Private</td>\n",
       "      <td>100000.0</td>\n",
       "      <td>100000.0</td>\n",
       "      <td>0.0</td>\n",
       "      <td>...</td>\n",
       "      <td>NaN</td>\n",
       "      <td>NaN</td>\n",
       "      <td>NaN</td>\n",
       "      <td>NaN</td>\n",
       "      <td>NaN</td>\n",
       "      <td>NaN</td>\n",
       "      <td>NaN</td>\n",
       "      <td>NaN</td>\n",
       "      <td>NaN</td>\n",
       "      <td>NaN</td>\n",
       "    </tr>\n",
       "  </tbody>\n",
       "</table>\n",
       "<p>5 rows × 56 columns</p>\n",
       "</div>"
      ],
      "text/plain": [
       "                     CIN                                     Company Name  \\\n",
       "0  U95000UP2021PTC142754  VIDHAN ECO ENVIRONMENTAL AGENCY PRIVATE LIMITED   \n",
       "1  U93090WB2021PTC243980                ANBY TECHNOLOGIES PRIVATE LIMITED   \n",
       "2  U93090WB2021OPC242700    HEAVENHOLISTIC WELLNESS (OPC) PRIVATE LIMITED   \n",
       "3  U93090WB2020PTC239925               GUIDE DOG SERVICES PRIVATE LIMITED   \n",
       "4  U93090UR2021PTC012429                     SHVAN-SAURIK PRIVATE LIMITED   \n",
       "\n",
       "          ROC Code  Registration Number           Company Category  \\\n",
       "0       RoC-Kanpur             142754.0  Company limited by Shares   \n",
       "1      RoC-Kolkata             243980.0  Company limited by Shares   \n",
       "2      RoC-Kolkata             242700.0  Company limited by Shares   \n",
       "3      RoC-Kolkata             239925.0  Company limited by Shares   \n",
       "4  RoC-Uttarakhand              12429.0  Company limited by Shares   \n",
       "\n",
       "  Company SubCategory             Class of Company  Authorised Capital(Rs)  \\\n",
       "0    Non-govt company                      Private                100000.0   \n",
       "1    Non-govt company                      Private                  1000.0   \n",
       "2    Non-govt company  Private(One Person Company)                100000.0   \n",
       "3    Non-govt company                      Private                100000.0   \n",
       "4    Non-govt company                      Private                100000.0   \n",
       "\n",
       "   Paid up Capital(Rs)  \\\n",
       "0             100000.0   \n",
       "1               1000.0   \n",
       "2             100000.0   \n",
       "3             100000.0   \n",
       "4             100000.0   \n",
       "\n",
       "   Number of Members(Applicable in case of company without Share Capital)  \\\n",
       "0                                                0.0                        \n",
       "1                                                0.0                        \n",
       "2                                                0.0                        \n",
       "3                                                0.0                        \n",
       "4                                                0.0                        \n",
       "\n",
       "   ... dinStatus/5/DIN dinStatus/5/Name dinStatus/5/BeginDate  \\\n",
       "0  ...             NaN              NaN                   NaN   \n",
       "1  ...             NaN              NaN                   NaN   \n",
       "2  ...             NaN              NaN                   NaN   \n",
       "3  ...             NaN              NaN                   NaN   \n",
       "4  ...             NaN              NaN                   NaN   \n",
       "\n",
       "  dinStatus/5/EndDate dinStatus/5/SurrenderedDIN  dinStatus/6/DIN  \\\n",
       "0                 NaN                        NaN              NaN   \n",
       "1                 NaN                        NaN              NaN   \n",
       "2                 NaN                        NaN              NaN   \n",
       "3                 NaN                        NaN              NaN   \n",
       "4                 NaN                        NaN              NaN   \n",
       "\n",
       "  dinStatus/6/Name dinStatus/6/BeginDate dinStatus/6/EndDate  \\\n",
       "0              NaN                   NaN                 NaN   \n",
       "1              NaN                   NaN                 NaN   \n",
       "2              NaN                   NaN                 NaN   \n",
       "3              NaN                   NaN                 NaN   \n",
       "4              NaN                   NaN                 NaN   \n",
       "\n",
       "  dinStatus/6/SurrenderedDIN  \n",
       "0                        NaN  \n",
       "1                        NaN  \n",
       "2                        NaN  \n",
       "3                        NaN  \n",
       "4                        NaN  \n",
       "\n",
       "[5 rows x 56 columns]"
      ]
     },
     "execution_count": 2,
     "metadata": {},
     "output_type": "execute_result"
    }
   ],
   "source": [
    "medium_data = pd.read_csv('companyName - juben-ExtraCinResp.csv')\n",
    "medium_data.head()"
   ]
  },
  {
   "cell_type": "code",
   "execution_count": 3,
   "id": "3cf2beef",
   "metadata": {},
   "outputs": [
    {
     "name": "stdout",
     "output_type": "stream",
     "text": [
      "Number of records:  7777\n",
      "Number of fields:  56\n"
     ]
    }
   ],
   "source": [
    "print(\"Number of records: \", medium_data.shape[0])\n",
    "print(\"Number of fields: \", medium_data.shape[1])"
   ]
  },
  {
   "cell_type": "code",
   "execution_count": 4,
   "id": "6254736b",
   "metadata": {},
   "outputs": [
    {
     "data": {
      "text/plain": [
       "0       VIDHAN ECO ENVIRONMENTAL AGENCY PRIVATE LIMITED\n",
       "1                     ANBY TECHNOLOGIES PRIVATE LIMITED\n",
       "2         HEAVENHOLISTIC WELLNESS (OPC) PRIVATE LIMITED\n",
       "3                    GUIDE DOG SERVICES PRIVATE LIMITED\n",
       "4                          SHVAN-SAURIK PRIVATE LIMITED\n",
       "                             ...                       \n",
       "7772                 LITTLE RANCH (OPC) PRIVATE LIMITED\n",
       "7773                       DISHASAARTHI PRIVATE LIMITED\n",
       "7774                             KOODOO PRIVATE LIMITED\n",
       "7775                         FOODIEZONE PRIVATE LIMITED\n",
       "7776                 KSHILOH INDUSTRIES PRIVATE LIMITED\n",
       "Name: Company Name, Length: 7777, dtype: object"
      ]
     },
     "execution_count": 4,
     "metadata": {},
     "output_type": "execute_result"
    }
   ],
   "source": [
    "medium_data['Company Name']"
   ]
  },
  {
   "cell_type": "code",
   "execution_count": 5,
   "id": "6a482e1c",
   "metadata": {},
   "outputs": [],
   "source": [
    "medium_data['Company Name'] = medium_data['Company Name'].apply(lambda x: str(x).replace(u'\\xa0',u' '))\n",
    "medium_data['Company Name'] = medium_data['Company Name'].apply(lambda x: str(x).replace('\\u200a',' '))"
   ]
  },
  {
   "cell_type": "code",
   "execution_count": 6,
   "id": "434d49bd",
   "metadata": {},
   "outputs": [
    {
     "name": "stdout",
     "output_type": "stream",
     "text": [
      "Total number of words:  9409\n",
      "Word: ID\n",
      "------------\n",
      "<oov>:  1\n",
      "And:  8\n"
     ]
    }
   ],
   "source": [
    "tokenizer = Tokenizer(oov_token='<oov>') # For those words which are not found in word_index\n",
    "tokenizer.fit_on_texts(medium_data['Company Name'])\n",
    "total_words = len(tokenizer.word_index) + 1\n",
    "\n",
    "print(\"Total number of words: \", total_words)\n",
    "print(\"Word: ID\")\n",
    "print(\"------------\")\n",
    "print(\"<oov>: \", tokenizer.word_index['<oov>'])\n",
    "\n",
    "print(\"And: \", tokenizer.word_index['and'])\n"
   ]
  },
  {
   "cell_type": "code",
   "execution_count": 11,
   "id": "a1bf96ba",
   "metadata": {},
   "outputs": [],
   "source": [
    "import pickle\n",
    "pickle.dump(tokenizer, open('tokenizer.pkl','wb'))"
   ]
  },
  {
   "cell_type": "code",
   "execution_count": 12,
   "id": "ddac5bda",
   "metadata": {},
   "outputs": [
    {
     "name": "stdout",
     "output_type": "stream",
     "text": [
      "Total input sequences:  26966\n"
     ]
    }
   ],
   "source": [
    "input_sequences = []\n",
    "for line in medium_data['Company Name']:\n",
    "    token_list = tokenizer.texts_to_sequences([line])[0]\n",
    "    #print(token_list)\n",
    "    \n",
    "    for i in range(1, len(token_list)):\n",
    "        n_gram_sequence = token_list[:i+1]\n",
    "        input_sequences.append(n_gram_sequence)\n",
    "\n",
    "print(\"Total input sequences: \", len(input_sequences))\n",
    "#print(input_sequences)"
   ]
  },
  {
   "cell_type": "code",
   "execution_count": 13,
   "id": "900e8523",
   "metadata": {},
   "outputs": [],
   "source": [
    "pickle.dump(input_sequences,open('words.pkl','wb'))"
   ]
  },
  {
   "cell_type": "code",
   "execution_count": 9,
   "id": "565601c2",
   "metadata": {},
   "outputs": [
    {
     "data": {
      "text/plain": [
       "array([  0,   0,   0,   0,   0,   0, 561, 185, 411], dtype=int32)"
      ]
     },
     "execution_count": 9,
     "metadata": {},
     "output_type": "execute_result"
    }
   ],
   "source": [
    "# pad sequences \n",
    "max_sequence_len = max([len(x) for x in input_sequences])\n",
    "input_sequences = np.array(pad_sequences(input_sequences, maxlen=max_sequence_len, padding='pre'))\n",
    "input_sequences[1]"
   ]
  },
  {
   "cell_type": "code",
   "execution_count": 10,
   "id": "03d9df83",
   "metadata": {},
   "outputs": [],
   "source": [
    "# create features and label\n",
    "xs, labels = input_sequences[:,:-1],input_sequences[:,-1]\n",
    "ys = tf.keras.utils.to_categorical(labels, num_classes=total_words)"
   ]
  },
  {
   "cell_type": "code",
   "execution_count": 11,
   "id": "a29de858",
   "metadata": {},
   "outputs": [
    {
     "name": "stdout",
     "output_type": "stream",
     "text": [
      "[   0    0    0    0    0    0    0 1015]\n",
      "5\n",
      "0.0\n"
     ]
    }
   ],
   "source": [
    "print(xs[5])\n",
    "print(labels[5])\n",
    "print(ys[5][14])"
   ]
  },
  {
   "cell_type": "code",
   "execution_count": 18,
   "id": "8ff7c5a2",
   "metadata": {},
   "outputs": [
    {
     "name": "stdout",
     "output_type": "stream",
     "text": [
      "[2022-02-23 07:10:45.948 ip-172-16-3-216:3561 INFO utils.py:27] RULE_JOB_STOP_SIGNAL_FILENAME: None\n",
      "[2022-02-23 07:10:46.096 ip-172-16-3-216:3561 INFO profiler_config_parser.py:111] Unable to find config at /opt/ml/input/config/profilerconfig.json. Profiler is disabled.\n",
      "Train on 26966 samples\n",
      "Epoch 1/50\n",
      "26966/26966 [==============================] - 51s 2ms/sample - loss: 3.0745 - accuracy: 0.5589\n",
      "Epoch 2/50\n",
      "26966/26966 [==============================] - 19s 689us/sample - loss: 2.5463 - accuracy: 0.5742\n",
      "Epoch 3/50\n",
      "26966/26966 [==============================] - 19s 694us/sample - loss: 2.1516 - accuracy: 0.5952\n",
      "Epoch 4/50\n",
      "26966/26966 [==============================] - 19s 693us/sample - loss: 1.7107 - accuracy: 0.6535\n",
      "Epoch 5/50\n",
      "26966/26966 [==============================] - 19s 695us/sample - loss: 1.4001 - accuracy: 0.7172\n",
      "Epoch 6/50\n",
      "26966/26966 [==============================] - 19s 688us/sample - loss: 1.2134 - accuracy: 0.7585\n",
      "Epoch 7/50\n",
      "26966/26966 [==============================] - 19s 686us/sample - loss: 0.8714 - accuracy: 0.8092\n",
      "Epoch 8/50\n",
      "26966/26966 [==============================] - 19s 687us/sample - loss: 0.6543 - accuracy: 0.8459\n",
      "Epoch 9/50\n",
      "26966/26966 [==============================] - 19s 687us/sample - loss: 0.5199 - accuracy: 0.8732\n",
      "Epoch 10/50\n",
      "26966/26966 [==============================] - 19s 686us/sample - loss: 0.4491 - accuracy: 0.8873\n",
      "Epoch 11/50\n",
      "26966/26966 [==============================] - 19s 687us/sample - loss: 0.4063 - accuracy: 0.8961\n",
      "Epoch 12/50\n",
      "26966/26966 [==============================] - 20s 735us/sample - loss: 0.3816 - accuracy: 0.9038\n",
      "Epoch 13/50\n",
      "26966/26966 [==============================] - 19s 689us/sample - loss: 0.3494 - accuracy: 0.9083\n",
      "Epoch 14/50\n",
      "26966/26966 [==============================] - 19s 699us/sample - loss: 0.3381 - accuracy: 0.9119\n",
      "Epoch 15/50\n",
      "26966/26966 [==============================] - 20s 735us/sample - loss: 0.3198 - accuracy: 0.9134\n",
      "Epoch 16/50\n",
      "26966/26966 [==============================] - 19s 690us/sample - loss: 0.3370 - accuracy: 0.9103\n",
      "Epoch 17/50\n",
      "26966/26966 [==============================] - 19s 688us/sample - loss: 0.2788 - accuracy: 0.9232\n",
      "Epoch 18/50\n",
      "26966/26966 [==============================] - 19s 689us/sample - loss: 0.2677 - accuracy: 0.9281\n",
      "Epoch 19/50\n",
      "26966/26966 [==============================] - 19s 691us/sample - loss: 0.2596 - accuracy: 0.9288\n",
      "Epoch 20/50\n",
      "26966/26966 [==============================] - 19s 686us/sample - loss: 0.2571 - accuracy: 0.9295\n",
      "Epoch 21/50\n",
      "26966/26966 [==============================] - 20s 732us/sample - loss: 0.2459 - accuracy: 0.9333\n",
      "Epoch 22/50\n",
      "26966/26966 [==============================] - 18s 684us/sample - loss: 0.2780 - accuracy: 0.9245\n",
      "Epoch 23/50\n",
      "26966/26966 [==============================] - 18s 685us/sample - loss: 0.2814 - accuracy: 0.9248\n",
      "Epoch 24/50\n",
      "26966/26966 [==============================] - 19s 694us/sample - loss: 0.2588 - accuracy: 0.9280\n",
      "Epoch 25/50\n",
      "26966/26966 [==============================] - 18s 684us/sample - loss: 0.2211 - accuracy: 0.9385\n",
      "Epoch 26/50\n",
      "26966/26966 [==============================] - 18s 685us/sample - loss: 0.2327 - accuracy: 0.9353\n",
      "Epoch 27/50\n",
      "26966/26966 [==============================] - 19s 692us/sample - loss: 0.2263 - accuracy: 0.9367\n",
      "Epoch 28/50\n",
      "26966/26966 [==============================] - 18s 683us/sample - loss: 0.3581 - accuracy: 0.9104\n",
      "Epoch 29/50\n",
      "26966/26966 [==============================] - 19s 691us/sample - loss: 0.2373 - accuracy: 0.9364\n",
      "Epoch 30/50\n",
      "26966/26966 [==============================] - 18s 684us/sample - loss: 0.2034 - accuracy: 0.9447\n",
      "Epoch 31/50\n",
      "26966/26966 [==============================] - 18s 685us/sample - loss: 0.1963 - accuracy: 0.9459\n",
      "Epoch 32/50\n",
      "26966/26966 [==============================] - 19s 701us/sample - loss: 0.1905 - accuracy: 0.9464\n",
      "Epoch 33/50\n",
      "26966/26966 [==============================] - 19s 720us/sample - loss: 0.1805 - accuracy: 0.9495\n",
      "Epoch 34/50\n",
      "26966/26966 [==============================] - 19s 709us/sample - loss: 0.1838 - accuracy: 0.9485\n",
      "Epoch 35/50\n",
      "26966/26966 [==============================] - 19s 707us/sample - loss: 0.1840 - accuracy: 0.9479\n",
      "Epoch 36/50\n",
      "26966/26966 [==============================] - 19s 703us/sample - loss: 0.1946 - accuracy: 0.9443\n",
      "Epoch 37/50\n",
      "26966/26966 [==============================] - 19s 695us/sample - loss: 0.1806 - accuracy: 0.9483\n",
      "Epoch 38/50\n",
      "26966/26966 [==============================] - 19s 688us/sample - loss: 0.2011 - accuracy: 0.9456\n",
      "Epoch 39/50\n",
      "26966/26966 [==============================] - 18s 670us/sample - loss: 0.2029 - accuracy: 0.9443\n",
      "Epoch 40/50\n",
      "26966/26966 [==============================] - 18s 672us/sample - loss: 0.1904 - accuracy: 0.9467\n",
      "Epoch 41/50\n",
      "26966/26966 [==============================] - 18s 677us/sample - loss: 0.1703 - accuracy: 0.9524\n",
      "Epoch 42/50\n",
      "26966/26966 [==============================] - 18s 669us/sample - loss: 0.1486 - accuracy: 0.9581\n",
      "Epoch 43/50\n",
      "26966/26966 [==============================] - 18s 682us/sample - loss: 0.1709 - accuracy: 0.9533\n",
      "Epoch 44/50\n",
      "26966/26966 [==============================] - 18s 671us/sample - loss: 0.1588 - accuracy: 0.9568\n",
      "Epoch 45/50\n",
      "26966/26966 [==============================] - 18s 672us/sample - loss: 0.1566 - accuracy: 0.9568\n",
      "Epoch 46/50\n",
      "26966/26966 [==============================] - 18s 676us/sample - loss: 0.1586 - accuracy: 0.9554\n",
      "Epoch 47/50\n",
      "26966/26966 [==============================] - 18s 674us/sample - loss: 0.1422 - accuracy: 0.9590\n",
      "Epoch 48/50\n",
      "26966/26966 [==============================] - 18s 677us/sample - loss: 0.1511 - accuracy: 0.9567\n",
      "Epoch 49/50\n",
      "26966/26966 [==============================] - 18s 670us/sample - loss: 0.1598 - accuracy: 0.9572\n",
      "Epoch 50/50\n",
      "26966/26966 [==============================] - 18s 669us/sample - loss: 0.2398 - accuracy: 0.9409\n",
      "<tensorflow.python.keras.engine.sequential.Sequential object at 0x7ff9d3be84a8>\n"
     ]
    }
   ],
   "source": [
    "model = Sequential()\n",
    "model.add(Embedding(total_words, 100, input_length=max_sequence_len-1))\n",
    "model.add(Bidirectional(LSTM(150)))\n",
    "model.add(Dense(total_words, activation='softmax'))\n",
    "adam = Adam(lr=0.01)\n",
    "model.compile(loss='categorical_crossentropy', optimizer=adam, metrics=['accuracy'])\n",
    "history = model.fit(xs, ys, epochs=50, verbose=1)\n",
    "#print model.summary()\n",
    "print(model)"
   ]
  },
  {
   "cell_type": "code",
   "execution_count": 20,
   "id": "6c613e66",
   "metadata": {},
   "outputs": [],
   "source": [
    "import matplotlib.pyplot as plt\n",
    "\n",
    "\n",
    "def plot_graphs(history, string):\n",
    "    plt.plot(history.history[string])\n",
    "    plt.xlabel(\"Epochs\")\n",
    "    plt.ylabel(string)\n",
    "    plt.show()"
   ]
  },
  {
   "cell_type": "code",
   "execution_count": 21,
   "id": "796c39b6",
   "metadata": {},
   "outputs": [
    {
     "data": {
      "image/png": "[encoded data removed]",
      "text/plain": [
       "<Figure size 432x288 with 1 Axes>"
      ]
     },
     "metadata": {
      "needs_background": "light"
     },
     "output_type": "display_data"
    }
   ],
   "source": [
    "plot_graphs(history, 'accuracy')"
   ]
  },
  {
   "cell_type": "code",
   "execution_count": 22,
   "id": "6228f172",
   "metadata": {},
   "outputs": [],
   "source": [
    "model.save('Companymodel.h5')"
   ]
  },
  {
   "cell_type": "code",
   "execution_count": 23,
   "id": "12a1c28f",
   "metadata": {},
   "outputs": [
    {
     "name": "stdout",
     "output_type": "stream",
     "text": [
      "WARNING:tensorflow:From /home/ec2-user/anaconda3/envs/tensorflow2_p36/lib/python3.6/site-packages/tensorflow_core/python/ops/resource_variable_ops.py:1786: calling BaseResourceVariable.__init__ (from tensorflow.python.ops.resource_variable_ops) with constraint is deprecated and will be removed in a future version.\n",
      "Instructions for updating:\n",
      "If using Keras pass *_constraint arguments to layers.\n",
      "INFO:tensorflow:Assets written to: tfmodel/assets\n"
     ]
    }
   ],
   "source": [
    "model.save('tfmodel',save_format='tf')"
   ]
  },
  {
   "cell_type": "code",
   "execution_count": 24,
   "id": "87286de7",
   "metadata": {},
   "outputs": [
    {
     "data": {
      "image/png": "[encoded data removed]",
      "text/plain": [
       "<Figure size 432x288 with 1 Axes>"
      ]
     },
     "metadata": {
      "needs_background": "light"
     },
     "output_type": "display_data"
    }
   ],
   "source": [
    "plot_graphs(history, 'loss')"
   ]
  },
  {
   "cell_type": "code",
   "execution_count": 15,
   "id": "4cc99890",
   "metadata": {},
   "outputs": [
    {
     "name": "stdout",
     "output_type": "stream",
     "text": [
      "Auto Completed Text : NOVEL ANALYTICS private limited food\n"
     ]
    }
   ],
   "source": [
    "import pandas as pd\n",
    "import os\n",
    "import numpy as np\n",
    "import tensorflow as tf\n",
    "from tensorflow import keras\n",
    "from tensorflow.keras.preprocessing.sequence import pad_sequences\n",
    "from tensorflow.keras.layers import Embedding, LSTM, Dense, Bidirectional\n",
    "from tensorflow.keras.preprocessing.text import Tokenizer\n",
    "from tensorflow.keras.models import Sequential\n",
    "from tensorflow.keras.optimizers import Adam\n",
    "from keras.models import load_model\n",
    "import pickle\n",
    "\n",
    "seed_text = \"NOVEL ANALYTICS\"\n",
    "next_words = 10\n",
    "load_model=keras.models.load_model(\"Companymodel.h5\")\n",
    "words = pickle.load(open('words.pkl','rb'))\n",
    "load_tokenizer = pickle.load(open('tokenizer.pkl','rb'))\n",
    "max_sequence_len = max([len(x) for x in words])\n",
    "\n",
    "for _ in range(next_words):\n",
    "    token_list = loaded_tokenizer.texts_to_sequences([seed_text])[0]\n",
    "    token_list = pad_sequences([token_list], maxlen=max_sequence_len-1, padding='pre')\n",
    "    predicted =load_model.predict(token_list)[0]\n",
    "    ERROR_THRESHOLD = 0.90\n",
    "    results = [[i,r] for i,r in enumerate(predicted) if r > ERROR_THRESHOLD]\n",
    "    results.sort(key=lambda x: x[1], reverse=True)\n",
    "    #print(results)\n",
    "    if len(results)==0:break\n",
    "    for word, index in tokenizer.word_index.items():\n",
    "        if index ==results[0][0]:\n",
    "            output_word = word\n",
    "            break\n",
    "    seed_text += \" \" + output_word\n",
    "    \n",
    "print(\"Auto Completed Text :\",seed_text)"
   ]
  }
 ],
 "metadata": {
  "kernelspec": {
   "display_name": "conda_tensorflow2_p36",
   "language": "python",
   "name": "conda_tensorflow2_p36"
  },
  "language_info": {
   "codemirror_mode": {
    "name": "ipython",
    "version": 3
   },
   "file_extension": ".py",
   "mimetype": "text/x-python",
   "name": "python",
   "nbconvert_exporter": "python",
   "pygments_lexer": "ipython3",
   "version": "3.6.13"
  }
 },
 "nbformat": 4,
 "nbformat_minor": 5
}
